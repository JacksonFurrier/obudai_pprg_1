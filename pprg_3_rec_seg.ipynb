{
 "cells": [
  {
   "cell_type": "markdown",
   "metadata": {},
   "source": [
    "## Mathematical inverse problems"
   ]
  },
  {
   "cell_type": "markdown",
   "metadata": {},
   "source": [
    "1. $Ax = b$, b is known (data) and we are looking for $A^{-1}$ to get the original $x$.\n",
    "2. During the task of reconstruction we are given $b$ (the projections) and we are looking for methods to get some form of method to approximate $A^{-1}$\n",
    "3. There are many problems with $A^{-1}$, it is impossible to model explicitly and the problem (1) is ill-positioned in the Hadamard sense. So we are looking for methods, which approximately/closely solve the problem of (1)."
   ]
  },
  {
   "cell_type": "markdown",
   "metadata": {},
   "source": [
    "## Reconstruction methods"
   ]
  },
  {
   "cell_type": "markdown",
   "metadata": {},
   "source": [
    "The most known method is the filtered-backprojection (FBP), which is based on the inverse Radon-transform as follows."
   ]
  },
  {
   "cell_type": "markdown",
   "metadata": {},
   "source": [
    "### Filtered back-projection"
   ]
  },
  {
   "cell_type": "markdown",
   "metadata": {},
   "source": [
    "#### The forward transformation"
   ]
  },
  {
   "cell_type": "code",
   "execution_count": null,
   "metadata": {},
   "outputs": [],
   "source": [
    "import numpy as np\n",
    "import matplotlib.pyplot as plt\n",
    "\n",
    "from skimage.data import shepp_logan_phantom\n",
    "from skimage.transform import radon, rescale\n",
    "\n",
    "image = shepp_logan_phantom()\n",
    "image = rescale(image, scale=0.4, mode='reflect', channel_axis=None)\n",
    "\n",
    "fig, (ax1, ax2) = plt.subplots(1, 2, figsize=(8, 4.5))\n",
    "\n",
    "ax1.set_title(\"Original\")\n",
    "ax1.imshow(image, cmap=plt.cm.Greys_r)\n",
    "\n",
    "theta = np.linspace(0.0, 180.0, max(image.shape), endpoint=False)\n",
    "sinogram = radon(image, theta=theta)\n",
    "dx, dy = 0.5 * 180.0 / max(image.shape), 0.5 / sinogram.shape[0]\n",
    "ax2.set_title(\"Radon transform\\n(Sinogram)\")\n",
    "ax2.set_xlabel(\"Projection angle (deg)\")\n",
    "ax2.set_ylabel(\"Projection position (pixels)\")\n",
    "ax2.imshow(\n",
    "    sinogram,\n",
    "    cmap=plt.cm.Greys_r,\n",
    "    extent=(-dx, 180.0 + dx, -dy, sinogram.shape[0] + dy),\n",
    "    aspect='auto',\n",
    ")\n",
    "\n",
    "fig.tight_layout()\n",
    "plt.show()"
   ]
  },
  {
   "cell_type": "markdown",
   "metadata": {},
   "source": [
    "#### The backward transformation and filters"
   ]
  },
  {
   "cell_type": "code",
   "execution_count": null,
   "metadata": {},
   "outputs": [],
   "source": [
    "import matplotlib.pyplot as plt\n",
    "from skimage.transform.radon_transform import _get_fourier_filter\n",
    "\n",
    "filters = ['ramp', 'shepp-logan', 'cosine', 'hamming', 'hann']\n",
    "\n",
    "for ix, f in enumerate(filters):\n",
    "    response = _get_fourier_filter(2000, f)\n",
    "    plt.plot(response, label=f)\n",
    "\n",
    "plt.xlim([0, 1000])\n",
    "plt.xlabel('frequency')\n",
    "plt.legend()\n",
    "plt.show()"
   ]
  },
  {
   "cell_type": "code",
   "execution_count": null,
   "metadata": {},
   "outputs": [],
   "source": [
    "from skimage.transform import iradon\n",
    "\n",
    "reconstruction_fbp = iradon(sinogram, theta=theta, filter_name='ramp')\n",
    "error = reconstruction_fbp - image\n",
    "print(f'FBP rms reconstruction error: {np.sqrt(np.mean(error**2)):.3g}')\n",
    "\n",
    "imkwargs = dict(vmin=-0.2, vmax=0.2)\n",
    "fig, (ax1, ax2) = plt.subplots(1, 2, figsize=(8, 4.5), sharex=True, sharey=True)\n",
    "ax1.set_title(\"Reconstruction\\nFiltered back projection\")\n",
    "ax1.imshow(reconstruction_fbp, cmap=plt.cm.Greys_r)\n",
    "ax2.set_title(\"Reconstruction error\\nFiltered back projection\")\n",
    "ax2.imshow(reconstruction_fbp - image, cmap=plt.cm.Greys_r, **imkwargs)\n",
    "plt.show()"
   ]
  },
  {
   "cell_type": "markdown",
   "metadata": {},
   "source": [
    "The problem with FBP are the following:\n",
    "* Results are statistically not correct for SPECT data, which is $\\lambda$-Poisson\n",
    "* Can not be used with attenuation maps (CT) for attenuation correction\n",
    "* Good for mathematically correct estimations for calibration measurements"
   ]
  },
  {
   "cell_type": "markdown",
   "metadata": {},
   "source": [
    "Tasks:\n",
    "1. Specialize it for SPECT data and do the following tasks:\n",
    "2. Load the SPECT projection data and plot them as they are in the dicom file\n",
    "3. Reconstruct the the volume (original distribution) from the projection frames"
   ]
  },
  {
   "cell_type": "markdown",
   "metadata": {},
   "source": [
    "### Maximum-likelihood Expectation Maximization (MLEM)"
   ]
  },
  {
   "cell_type": "code",
   "execution_count": null,
   "metadata": {},
   "outputs": [],
   "source": [
    "import numpy as np\n",
    "import matplotlib.pyplot as plt\n",
    "\n",
    "#for the Shepp-Logan phantom, Radon-transform, resize...\n",
    "from skimage.data import shepp_logan_phantom\n",
    "from skimage.transform import radon, rescale, resize\n",
    "\n",
    "import math\n",
    "import time"
   ]
  },
  {
   "cell_type": "code",
   "execution_count": null,
   "metadata": {},
   "outputs": [],
   "source": [
    "# creation of MLEM datastructures and steps to run the reconstruction\n",
    "image_f = shepp_logan_phantom()\n",
    "image_f = resize(image_f, (3,3) )\n",
    "\n",
    "image_f *= 255.0/image_f.max()\n",
    "\n",
    "#print('image_f min, max: ', np.min(image_f), np.max(image_f))\n",
    "\n",
    "image_g = radon(image_f)\n",
    "\n",
    "#print('image_g min, max: ', np.min(image_g), np.max(image_g))\n",
    "\n",
    "# plt.imshow(image_g)\n",
    "# plt.show()\n",
    "\n",
    "g = image_g.copy()\n",
    "f = image_f.copy()\n",
    "\n",
    "g_row, g_col = g.shape[:]\n",
    "f_row, f_col = f.shape[:]\n",
    "\n",
    "#print('g shape: ', g_row, g_col)\n",
    "#print('f shape: ', f_row, f_col)\n",
    "#print('')\n",
    "\n",
    "#1.feladat. Az A mátrix meghatározsa\n",
    "\n",
    "gs = np.reshape(g,(g.shape[0]*g.shape[1], 1))\n",
    "fs = np.reshape(f,(f.shape[0]*f.shape[1], 1))\n",
    "\n",
    "#print('gs shape: ', gs.shape)\n",
    "#print('fs shape: ', fs.shape)\n",
    "#print('')\n",
    "\n",
    "A = np.zeros((gs.shape[0], fs.shape[0]),dtype=float)\n",
    "\n",
    "N, angles_num = g.shape[:]\n",
    "\n",
    "angles = np.linspace(0, math.pi, angles_num) # it is recommended\n",
    "\n",
    "COS = np.zeros((N,len(angles)))\n",
    "SIN = np.zeros((N,len(angles)))\n",
    "\n",
    "x = np.linspace(-0.5,0.5,N)\n",
    "\n",
    "for k in range(0,N):\n",
    "    for a in range(0,len(angles)):\n",
    "        COS[k,a] = x[k]*math.cos(angles[a])\n",
    "        SIN[k,a] = x[k]*math.sin(angles[a])\n",
    "\n",
    "f_num = 0\n",
    "\n",
    "for i in range(0, N):\n",
    "    for j in range(0, N):\n",
    "        for angle in range(0,len(angles)):\n",
    "            r = COS[i,angle] + SIN[j,angle]\n",
    "            index = (r + 0.5)*N\n",
    "            if index >= 0 and index < N:\n",
    "                ind = math.floor(index)\n",
    "                if  (index - math.floor(index)) > 0.5:\n",
    "                    A[ind    , f_num] = 1 - (index - math.floor(index))\n",
    "                    A[ind + 1, f_num] = (index - math.floor(index))\n",
    "                else:\n",
    "                    index = math.floor(index)\n",
    "                    A[ind, f_num] = (index - math.floor(index))\n",
    "                    A[ind + 1, f_num] = 1 - (index - math.floor(index))\n",
    "        f_num = f_num + 1\n",
    "\n",
    "#print('A shape: ', A.shape)\n",
    "# print('')\n",
    "#\n",
    "f0 = fs.copy()\n",
    "f1 = f0.copy()\n",
    "\n",
    "for i in range(0, f0.shape[0]):\n",
    "    if f0[i] < 0:\n",
    "        f0[i] = 0\n",
    "\n",
    "#number of pixels\n",
    "m = fs.shape[0]\n",
    "\n",
    "#number of bins\n",
    "n = gs.shape[0]"
   ]
  },
  {
   "cell_type": "code",
   "execution_count": null,
   "metadata": {},
   "outputs": [],
   "source": [
    "# running the actual reconstruction\n",
    "start = time.time()\n",
    "\n",
    "for k in range(0,10):\n",
    "    for j in range(0, fs.shape[0]):\n",
    "        Sa = 0\n",
    "        for i in range(0, n):\n",
    "            Sa = Sa + A[i, j]\n",
    "\n",
    "        S = 0\n",
    "        for i in range(0, n):\n",
    "            Saf = 0\n",
    "            for j_v in range(0, m):\n",
    "                Saf = Saf + A[i,j_v] * f0[j_v]\n",
    "            if Saf != 0:\n",
    "                S = S + gs[i] * A[i, j] / Saf\n",
    "        if Sa != 0:\n",
    "            f1[j] = S * f0[j] / Sa\n",
    "        #print('Iteration (j):', j)\n",
    "    f0 = f1\n",
    "    print('+++++++++++++++++++++++++++++')\n",
    "    print('Iteration: ', k)\n",
    "\n",
    "end = time.time()\n",
    "print('Elapsed time: ',(end - start)/60)"
   ]
  },
  {
   "cell_type": "code",
   "execution_count": null,
   "metadata": {},
   "outputs": [],
   "source": [
    "fig, (ax1, ax2) = plt.subplots(1, 2)\n",
    "ff = np.reshape(f0,(f.shape[0], f.shape[1]))\n",
    "#print(np.max(f), np.min(f))\n",
    "\n",
    "ff *= 255.0/ff.max()\n",
    "\n",
    "print('ff min, max: ', np.min(ff), np.max(ff))\n",
    "\n",
    "print(f)\n",
    "print('+++++++++++++++++++++++++++++++++++++++++++++')\n",
    "print(ff)\n",
    "#print(image_f)\n",
    "\n",
    "ax1.imshow(int(f), cmap='gray')\n",
    "ax2.imshow(int(ff), cmap='gray')\n",
    "\n",
    "plt.show()"
   ]
  },
  {
   "cell_type": "markdown",
   "metadata": {},
   "source": [
    "Tasks:\n",
    "1. Try to reconstruct the volume from the SPECT projections\n",
    "2. Run as many iterations as possible\n",
    "3. Try to parallelize the MLEM reconstruction on multiple threads, processes, interpreters ..."
   ]
  },
  {
   "cell_type": "markdown",
   "metadata": {},
   "source": [
    "### Oredered Subsets Expectation Maximization (OSEM)"
   ]
  },
  {
   "cell_type": "markdown",
   "metadata": {},
   "source": []
  }
 ],
 "metadata": {
  "kernelspec": {
   "display_name": "p12",
   "language": "python",
   "name": "python3"
  },
  "language_info": {
   "codemirror_mode": {
    "name": "ipython",
    "version": 3
   },
   "file_extension": ".py",
   "mimetype": "text/x-python",
   "name": "python",
   "nbconvert_exporter": "python",
   "pygments_lexer": "ipython3",
   "version": "3.12.3"
  }
 },
 "nbformat": 4,
 "nbformat_minor": 2
}
